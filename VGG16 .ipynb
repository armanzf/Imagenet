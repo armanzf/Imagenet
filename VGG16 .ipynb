{
  "nbformat": 4,
  "nbformat_minor": 0,
  "metadata": {
    "colab": {
      "name": "VGG16.ipynb",
      "provenance": []
    },
    "kernelspec": {
      "name": "python3",
      "display_name": "Python 3"
    },
    "language_info": {
      "name": "python"
    }
  },
  "cells": [
    {
      "cell_type": "code",
      "source": [
        "! pip install kaggle"
      ],
      "metadata": {
        "id": "3_pZHlgzMi8W"
      },
      "execution_count": null,
      "outputs": []
    },
    {
      "cell_type": "code",
      "source": [
        "! mkdir ~/.kaggle"
      ],
      "metadata": {
        "id": "DZHMfsKNMl6s",
        "colab": {
          "base_uri": "https://localhost:8080/"
        },
        "outputId": "daa12000-2124-47d0-ad03-8294a6cb0427"
      },
      "execution_count": null,
      "outputs": [
        {
          "output_type": "stream",
          "name": "stdout",
          "text": [
            "mkdir: cannot create directory ‘/root/.kaggle’: File exists\n"
          ]
        }
      ]
    },
    {
      "cell_type": "code",
      "source": [
        "! cp kaggle.json ~/.kaggle/"
      ],
      "metadata": {
        "id": "samFwz15MoVL"
      },
      "execution_count": null,
      "outputs": []
    },
    {
      "cell_type": "code",
      "source": [
        "! chmod 600 ~/.kaggle/kaggle.json"
      ],
      "metadata": {
        "id": "ARbPiET7Mrft"
      },
      "execution_count": null,
      "outputs": []
    },
    {
      "cell_type": "code",
      "source": [
        "! kaggle datasets download -d liusha249/tinyimagenet"
      ],
      "metadata": {
        "id": "gFMjWad0Nd7x",
        "colab": {
          "base_uri": "https://localhost:8080/"
        },
        "outputId": "10e1ec46-ad49-47fb-989e-aa589b972966"
      },
      "execution_count": null,
      "outputs": [
        {
          "output_type": "stream",
          "name": "stdout",
          "text": [
            "tinyimagenet.zip: Skipping, found more recently modified local copy (use --force to force download)\n"
          ]
        }
      ]
    },
    {
      "cell_type": "code",
      "source": [
        "! unzip tinyimagenet.zip -d train"
      ],
      "metadata": {
        "id": "h4noDqMDNoop"
      },
      "execution_count": null,
      "outputs": []
    },
    {
      "cell_type": "code",
      "source": [
        "import numpy as np \n",
        "import pandas as pd \n",
        "import glob\n",
        "import os \n",
        "import cv2\n",
        "from google.colab.patches import cv2_imshow\n",
        "from tensorflow.keras import utils as np_utils\n",
        "import tensorflow as tf\n",
        "from tensorflow import keras\n",
        "from tensorflow.keras.models import Sequential\n",
        "from tensorflow.keras.layers import BatchNormalization, GlobalAveragePooling2D\n",
        "from tensorflow.keras.layers import Activation, Dense, Flatten, BatchNormalization, Conv2D, MaxPool2D\n",
        "from tensorflow.keras.optimizers import Adam\n",
        "from sklearn.model_selection import train_test_split\n",
        "import matplotlib.pyplot as plt\n",
        "from keras.layers import Dense, Dropout, Flatten, ELU, core"
      ],
      "metadata": {
        "id": "uexbThWdOdgj"
      },
      "execution_count": null,
      "outputs": []
    },
    {
      "cell_type": "code",
      "source": [
        "train_path = os.listdir(\"/content/train/tiny-imagenet-200/train\")"
      ],
      "metadata": {
        "id": "sZAe3YmVOoHP"
      },
      "execution_count": null,
      "outputs": []
    },
    {
      "cell_type": "code",
      "source": [
        "Y_train = np.zeros((10000, 1))\n",
        "X_train = np.zeros((10000, 64, 64, 3))\n",
        "k=0\n",
        "for i in train_path:\n",
        "  \n",
        "  #print(i)\n",
        "  path = glob.glob('/content/train/tiny-imagenet-200/train/' + (i) + '/images/')\n",
        "  #tr_path.append(glob.glob('/content/train/tiny-imagenet-200/train/' + (i) + '/images/'))\n",
        "  j = 0\n",
        "  while j<50:\n",
        "    Y_train[(k*50)+j] = k\n",
        "    X_train[(k*50)+j, :, :, :] = cv2.imread(path[0] + i + '_'+str(j)+'.JPEG')\n",
        "    j+=1\n",
        "  k+=1\n",
        "  print(k)\n",
        "\n",
        "\n"
      ],
      "metadata": {
        "id": "YwVIE_9FO01V",
        "colab": {
          "base_uri": "https://localhost:8080/"
        },
        "outputId": "eb49d446-2ca6-4dad-89ea-049f9d5a2a1d"
      },
      "execution_count": null,
      "outputs": [
        {
          "output_type": "stream",
          "name": "stdout",
          "text": [
            "1\n",
            "2\n",
            "3\n",
            "4\n",
            "5\n",
            "6\n",
            "7\n",
            "8\n",
            "9\n",
            "10\n",
            "11\n",
            "12\n",
            "13\n",
            "14\n",
            "15\n",
            "16\n",
            "17\n",
            "18\n",
            "19\n",
            "20\n",
            "21\n",
            "22\n",
            "23\n",
            "24\n",
            "25\n",
            "26\n",
            "27\n",
            "28\n",
            "29\n",
            "30\n",
            "31\n",
            "32\n",
            "33\n",
            "34\n",
            "35\n",
            "36\n",
            "37\n",
            "38\n",
            "39\n",
            "40\n",
            "41\n",
            "42\n",
            "43\n",
            "44\n",
            "45\n",
            "46\n",
            "47\n",
            "48\n",
            "49\n",
            "50\n",
            "51\n",
            "52\n",
            "53\n",
            "54\n",
            "55\n",
            "56\n",
            "57\n",
            "58\n",
            "59\n",
            "60\n",
            "61\n",
            "62\n",
            "63\n",
            "64\n",
            "65\n",
            "66\n",
            "67\n",
            "68\n",
            "69\n",
            "70\n",
            "71\n",
            "72\n",
            "73\n",
            "74\n",
            "75\n",
            "76\n",
            "77\n",
            "78\n",
            "79\n",
            "80\n",
            "81\n",
            "82\n",
            "83\n",
            "84\n",
            "85\n",
            "86\n",
            "87\n",
            "88\n",
            "89\n",
            "90\n",
            "91\n",
            "92\n",
            "93\n",
            "94\n",
            "95\n",
            "96\n",
            "97\n",
            "98\n",
            "99\n",
            "100\n",
            "101\n",
            "102\n",
            "103\n",
            "104\n",
            "105\n",
            "106\n",
            "107\n",
            "108\n",
            "109\n",
            "110\n",
            "111\n",
            "112\n",
            "113\n",
            "114\n",
            "115\n",
            "116\n",
            "117\n",
            "118\n",
            "119\n",
            "120\n",
            "121\n",
            "122\n",
            "123\n",
            "124\n",
            "125\n",
            "126\n",
            "127\n",
            "128\n",
            "129\n",
            "130\n",
            "131\n",
            "132\n",
            "133\n",
            "134\n",
            "135\n",
            "136\n",
            "137\n",
            "138\n",
            "139\n",
            "140\n",
            "141\n",
            "142\n",
            "143\n",
            "144\n",
            "145\n",
            "146\n",
            "147\n",
            "148\n",
            "149\n",
            "150\n",
            "151\n",
            "152\n",
            "153\n",
            "154\n",
            "155\n",
            "156\n",
            "157\n",
            "158\n",
            "159\n",
            "160\n",
            "161\n",
            "162\n",
            "163\n",
            "164\n",
            "165\n",
            "166\n",
            "167\n",
            "168\n",
            "169\n",
            "170\n",
            "171\n",
            "172\n",
            "173\n",
            "174\n",
            "175\n",
            "176\n",
            "177\n",
            "178\n",
            "179\n",
            "180\n",
            "181\n",
            "182\n",
            "183\n",
            "184\n",
            "185\n",
            "186\n",
            "187\n",
            "188\n",
            "189\n",
            "190\n",
            "191\n",
            "192\n",
            "193\n",
            "194\n",
            "195\n",
            "196\n",
            "197\n",
            "198\n",
            "199\n",
            "200\n"
          ]
        }
      ]
    },
    {
      "cell_type": "code",
      "source": [
        "cv2_imshow(X_train[565, :, :, :])\n",
        "print(Y_train[565, :])"
      ],
      "metadata": {
        "colab": {
          "base_uri": "https://localhost:8080/",
          "height": 98
        },
        "id": "tqSGPlKj0MKo",
        "outputId": "44acf19a-52eb-4225-cdca-743004039167"
      },
      "execution_count": null,
      "outputs": [
        {
          "output_type": "display_data",
          "data": {
            "image/png": "[encoded data removed]",
            "text/plain": [
              "<PIL.Image.Image image mode=RGB size=64x64 at 0x7F49250445D0>"
            ]
          },
          "metadata": {}
        },
        {
          "output_type": "stream",
          "name": "stdout",
          "text": [
            "[11.]\n"
          ]
        }
      ]
    },
    {
      "cell_type": "code",
      "source": [
        "### Normalization\n",
        "for i in range(len(X_train)):\n",
        "  x = X_train[i, :, :, :]\n",
        "  x = x/x.max()\n",
        "  X_train[i, :, :, :] = x\n",
        "\n"
      ],
      "metadata": {
        "id": "midI7o3KDfj2"
      },
      "execution_count": null,
      "outputs": []
    },
    {
      "cell_type": "code",
      "source": [
        "\n",
        "shuffle = list(range(np.size(Y_train, 0)))\n",
        "np.random.shuffle(shuffle)\n",
        "x_train = X_train[shuffle, :, :]\n",
        "y_train = Y_train[shuffle, :]"
      ],
      "metadata": {
        "id": "DAeVQXtiTfik"
      },
      "execution_count": null,
      "outputs": []
    },
    {
      "cell_type": "code",
      "source": [
        "y_train = np_utils.to_categorical(y_train, 200)"
      ],
      "metadata": {
        "id": "pzzXRpYGuBFX"
      },
      "execution_count": null,
      "outputs": []
    },
    {
      "cell_type": "code",
      "source": [
        "xx_train , xx_test, yy_train, yy_test = train_test_split(x_train, y_train, test_size=0.02, random_state=32)"
      ],
      "metadata": {
        "id": "2MkMYBmaH_a5"
      },
      "execution_count": null,
      "outputs": []
    },
    {
      "cell_type": "code",
      "source": [
        "cv2_imshow(x_train[800, :, :, :]*255)\n",
        "print(y_train[800, :])"
      ],
      "metadata": {
        "colab": {
          "base_uri": "https://localhost:8080/",
          "height": 237
        },
        "id": "wSWSDVsbzYAB",
        "outputId": "bfc1611a-49dd-4095-99a7-e68437d4e159"
      },
      "execution_count": null,
      "outputs": [
        {
          "output_type": "display_data",
          "data": {
            "image/png": "[encoded data removed]",
            "text/plain": [
              "<PIL.Image.Image image mode=RGB size=64x64 at 0x7F4924FA3F90>"
            ]
          },
          "metadata": {}
        },
        {
          "output_type": "stream",
          "name": "stdout",
          "text": [
            "[0. 0. 0. 0. 0. 0. 0. 0. 0. 0. 0. 0. 0. 0. 0. 0. 0. 0. 0. 0. 0. 0. 0. 0.\n",
            " 0. 0. 0. 0. 0. 0. 1. 0. 0. 0. 0. 0. 0. 0. 0. 0. 0. 0. 0. 0. 0. 0. 0. 0.\n",
            " 0. 0. 0. 0. 0. 0. 0. 0. 0. 0. 0. 0. 0. 0. 0. 0. 0. 0. 0. 0. 0. 0. 0. 0.\n",
            " 0. 0. 0. 0. 0. 0. 0. 0. 0. 0. 0. 0. 0. 0. 0. 0. 0. 0. 0. 0. 0. 0. 0. 0.\n",
            " 0. 0. 0. 0. 0. 0. 0. 0. 0. 0. 0. 0. 0. 0. 0. 0. 0. 0. 0. 0. 0. 0. 0. 0.\n",
            " 0. 0. 0. 0. 0. 0. 0. 0. 0. 0. 0. 0. 0. 0. 0. 0. 0. 0. 0. 0. 0. 0. 0. 0.\n",
            " 0. 0. 0. 0. 0. 0. 0. 0. 0. 0. 0. 0. 0. 0. 0. 0. 0. 0. 0. 0. 0. 0. 0. 0.\n",
            " 0. 0. 0. 0. 0. 0. 0. 0. 0. 0. 0. 0. 0. 0. 0. 0. 0. 0. 0. 0. 0. 0. 0. 0.\n",
            " 0. 0. 0. 0. 0. 0. 0. 0.]\n"
          ]
        }
      ]
    },
    {
      "cell_type": "code",
      "source": [
        "vgg16_model = tf.keras.applications.vgg16.VGG16(weights=\"imagenet\", include_top=False, input_shape = (64, 64, 3))\n",
        "vgg16_model.summary()"
      ],
      "metadata": {
        "colab": {
          "base_uri": "https://localhost:8080/"
        },
        "id": "ZvGdXu5pz_MR",
        "outputId": "8ccb6154-5be1-4eb5-d20b-1242aa3cfaed"
      },
      "execution_count": null,
      "outputs": [
        {
          "output_type": "stream",
          "name": "stdout",
          "text": [
            "Model: \"vgg16\"\n",
            "_________________________________________________________________\n",
            " Layer (type)                Output Shape              Param #   \n",
            "=================================================================\n",
            " input_1 (InputLayer)        [(None, 64, 64, 3)]       0         \n",
            "                                                                 \n",
            " block1_conv1 (Conv2D)       (None, 64, 64, 64)        1792      \n",
            "                                                                 \n",
            " block1_conv2 (Conv2D)       (None, 64, 64, 64)        36928     \n",
            "                                                                 \n",
            " block1_pool (MaxPooling2D)  (None, 32, 32, 64)        0         \n",
            "                                                                 \n",
            " block2_conv1 (Conv2D)       (None, 32, 32, 128)       73856     \n",
            "                                                                 \n",
            " block2_conv2 (Conv2D)       (None, 32, 32, 128)       147584    \n",
            "                                                                 \n",
            " block2_pool (MaxPooling2D)  (None, 16, 16, 128)       0         \n",
            "                                                                 \n",
            " block3_conv1 (Conv2D)       (None, 16, 16, 256)       295168    \n",
            "                                                                 \n",
            " block3_conv2 (Conv2D)       (None, 16, 16, 256)       590080    \n",
            "                                                                 \n",
            " block3_conv3 (Conv2D)       (None, 16, 16, 256)       590080    \n",
            "                                                                 \n",
            " block3_pool (MaxPooling2D)  (None, 8, 8, 256)         0         \n",
            "                                                                 \n",
            " block4_conv1 (Conv2D)       (None, 8, 8, 512)         1180160   \n",
            "                                                                 \n",
            " block4_conv2 (Conv2D)       (None, 8, 8, 512)         2359808   \n",
            "                                                                 \n",
            " block4_conv3 (Conv2D)       (None, 8, 8, 512)         2359808   \n",
            "                                                                 \n",
            " block4_pool (MaxPooling2D)  (None, 4, 4, 512)         0         \n",
            "                                                                 \n",
            " block5_conv1 (Conv2D)       (None, 4, 4, 512)         2359808   \n",
            "                                                                 \n",
            " block5_conv2 (Conv2D)       (None, 4, 4, 512)         2359808   \n",
            "                                                                 \n",
            " block5_conv3 (Conv2D)       (None, 4, 4, 512)         2359808   \n",
            "                                                                 \n",
            " block5_pool (MaxPooling2D)  (None, 2, 2, 512)         0         \n",
            "                                                                 \n",
            "=================================================================\n",
            "Total params: 14,714,688\n",
            "Trainable params: 14,714,688\n",
            "Non-trainable params: 0\n",
            "_________________________________________________________________\n"
          ]
        }
      ]
    },
    {
      "cell_type": "code",
      "metadata": {
        "id": "vjr4Hr3WE_D2"
      },
      "source": [
        "model= Sequential()\n",
        "for layer in vgg16_model.layers[:-1]:\n",
        "  model.add(layer)"
      ],
      "execution_count": null,
      "outputs": []
    },
    {
      "cell_type": "code",
      "metadata": {
        "id": "H_cVtuNgE_tu"
      },
      "source": [
        "for layer in model.layers:\n",
        "  layer.trainable = False\n",
        "#x = model.output\n",
        "#x = GlobalAveragePooling2D()(x)\n",
        "#output = Dense (units= 2 , activation = \"softmax\")(x)\n",
        "#model (input = model.input , output= output)\n",
        "model.add (GlobalAveragePooling2D ())\n",
        "model.add (Dense(units = 200, activation = \"softmax\"))\n",
        "model.add(Dropout(0.5))\n",
        "\n"
      ],
      "execution_count": null,
      "outputs": []
    },
    {
      "cell_type": "code",
      "metadata": {
        "colab": {
          "base_uri": "https://localhost:8080/"
        },
        "id": "PxVBp-mYFhn8",
        "outputId": "704b6cae-4078-4b30-c267-6d93aa1533ca"
      },
      "source": [
        "model.summary()"
      ],
      "execution_count": null,
      "outputs": [
        {
          "output_type": "stream",
          "name": "stdout",
          "text": [
            "Model: \"sequential\"\n",
            "_________________________________________________________________\n",
            " Layer (type)                Output Shape              Param #   \n",
            "=================================================================\n",
            " block1_conv1 (Conv2D)       (None, 64, 64, 64)        1792      \n",
            "                                                                 \n",
            " block1_conv2 (Conv2D)       (None, 64, 64, 64)        36928     \n",
            "                                                                 \n",
            " block1_pool (MaxPooling2D)  (None, 32, 32, 64)        0         \n",
            "                                                                 \n",
            " block2_conv1 (Conv2D)       (None, 32, 32, 128)       73856     \n",
            "                                                                 \n",
            " block2_conv2 (Conv2D)       (None, 32, 32, 128)       147584    \n",
            "                                                                 \n",
            " block2_pool (MaxPooling2D)  (None, 16, 16, 128)       0         \n",
            "                                                                 \n",
            " block3_conv1 (Conv2D)       (None, 16, 16, 256)       295168    \n",
            "                                                                 \n",
            " block3_conv2 (Conv2D)       (None, 16, 16, 256)       590080    \n",
            "                                                                 \n",
            " block3_conv3 (Conv2D)       (None, 16, 16, 256)       590080    \n",
            "                                                                 \n",
            " block3_pool (MaxPooling2D)  (None, 8, 8, 256)         0         \n",
            "                                                                 \n",
            " block4_conv1 (Conv2D)       (None, 8, 8, 512)         1180160   \n",
            "                                                                 \n",
            " block4_conv2 (Conv2D)       (None, 8, 8, 512)         2359808   \n",
            "                                                                 \n",
            " block4_conv3 (Conv2D)       (None, 8, 8, 512)         2359808   \n",
            "                                                                 \n",
            " block4_pool (MaxPooling2D)  (None, 4, 4, 512)         0         \n",
            "                                                                 \n",
            " block5_conv1 (Conv2D)       (None, 4, 4, 512)         2359808   \n",
            "                                                                 \n",
            " block5_conv2 (Conv2D)       (None, 4, 4, 512)         2359808   \n",
            "                                                                 \n",
            " block5_conv3 (Conv2D)       (None, 4, 4, 512)         2359808   \n",
            "                                                                 \n",
            " global_average_pooling2d (G  (None, 512)              0         \n",
            " lobalAveragePooling2D)                                          \n",
            "                                                                 \n",
            " dense (Dense)               (None, 200)               102600    \n",
            "                                                                 \n",
            " dropout (Dropout)           (None, 200)               0         \n",
            "                                                                 \n",
            "=================================================================\n",
            "Total params: 14,817,288\n",
            "Trainable params: 102,600\n",
            "Non-trainable params: 14,714,688\n",
            "_________________________________________________________________\n"
          ]
        }
      ]
    },
    {
      "cell_type": "code",
      "source": [
        "del X_train, Y_train"
      ],
      "metadata": {
        "id": "YSi-4hgNTIvk"
      },
      "execution_count": null,
      "outputs": []
    },
    {
      "cell_type": "code",
      "metadata": {
        "id": "mMiX5LxkHt7r"
      },
      "source": [
        "model.compile(optimizer = Adam(learning_rate =0.0002) , loss = \"categorical_crossentropy\", metrics = [\"accuracy\"])"
      ],
      "execution_count": null,
      "outputs": []
    },
    {
      "cell_type": "code",
      "metadata": {
        "colab": {
          "base_uri": "https://localhost:8080/"
        },
        "id": "a0X2TEgBH-_0",
        "outputId": "f504d9fc-8a06-4a5d-ef90-86403555c140"
      },
      "source": [
        "history = model.fit(xx_train, yy_train,\n",
        "          batch_size=8,\n",
        "          epochs=60,\n",
        "          shuffle=True,\n",
        "          verbose=1,\n",
        "          validation_split=0.35,\n",
        "          callbacks=[])"
      ],
      "execution_count": null,
      "outputs": [
        {
          "output_type": "stream",
          "name": "stdout",
          "text": [
            "Epoch 1/60\n",
            "797/797 [==============================] - 25s 32ms/step - loss: 8.9515 - accuracy: 0.3187 - val_loss: 3.5883 - val_accuracy: 0.2239\n",
            "Epoch 2/60\n",
            "797/797 [==============================] - 27s 34ms/step - loss: 8.9713 - accuracy: 0.3199 - val_loss: 3.5881 - val_accuracy: 0.2271\n",
            "Epoch 3/60\n",
            "797/797 [==============================] - 25s 31ms/step - loss: 8.9613 - accuracy: 0.3187 - val_loss: 3.5912 - val_accuracy: 0.2318\n",
            "Epoch 4/60\n",
            "797/797 [==============================] - 25s 31ms/step - loss: 8.8322 - accuracy: 0.3210 - val_loss: 3.5903 - val_accuracy: 0.2294\n",
            "Epoch 5/60\n",
            "797/797 [==============================] - 25s 31ms/step - loss: 8.9464 - accuracy: 0.3229 - val_loss: 3.5921 - val_accuracy: 0.2216\n",
            "Epoch 6/60\n",
            "797/797 [==============================] - 25s 31ms/step - loss: 8.8987 - accuracy: 0.3209 - val_loss: 3.5862 - val_accuracy: 0.2254\n",
            "Epoch 7/60\n",
            "797/797 [==============================] - 27s 34ms/step - loss: 8.7772 - accuracy: 0.3316 - val_loss: 3.5837 - val_accuracy: 0.2280\n",
            "Epoch 8/60\n",
            "797/797 [==============================] - 25s 31ms/step - loss: 8.9021 - accuracy: 0.3235 - val_loss: 3.5846 - val_accuracy: 0.2257\n",
            "Epoch 9/60\n",
            "797/797 [==============================] - 25s 31ms/step - loss: 8.6125 - accuracy: 0.3410 - val_loss: 3.5856 - val_accuracy: 0.2306\n",
            "Epoch 10/60\n",
            "797/797 [==============================] - 27s 34ms/step - loss: 8.7922 - accuracy: 0.3347 - val_loss: 3.5802 - val_accuracy: 0.2294\n",
            "Epoch 11/60\n",
            "797/797 [==============================] - 27s 34ms/step - loss: 8.7669 - accuracy: 0.3295 - val_loss: 3.5842 - val_accuracy: 0.2245\n",
            "Epoch 12/60\n",
            "797/797 [==============================] - 27s 34ms/step - loss: 8.7679 - accuracy: 0.3375 - val_loss: 3.5847 - val_accuracy: 0.2327\n",
            "Epoch 13/60\n",
            "797/797 [==============================] - 25s 31ms/step - loss: 8.8853 - accuracy: 0.3334 - val_loss: 3.5832 - val_accuracy: 0.2297\n",
            "Epoch 14/60\n",
            "797/797 [==============================] - 25s 31ms/step - loss: 8.6829 - accuracy: 0.3435 - val_loss: 3.5843 - val_accuracy: 0.2277\n",
            "Epoch 15/60\n",
            "797/797 [==============================] - 25s 31ms/step - loss: 8.9051 - accuracy: 0.3359 - val_loss: 3.5857 - val_accuracy: 0.2280\n",
            "Epoch 16/60\n",
            "797/797 [==============================] - 25s 31ms/step - loss: 8.8692 - accuracy: 0.3403 - val_loss: 3.5844 - val_accuracy: 0.2332\n",
            "Epoch 17/60\n",
            "797/797 [==============================] - 25s 31ms/step - loss: 8.9453 - accuracy: 0.3339 - val_loss: 3.5885 - val_accuracy: 0.2312\n",
            "Epoch 18/60\n",
            "797/797 [==============================] - 25s 31ms/step - loss: 8.8119 - accuracy: 0.3414 - val_loss: 3.5893 - val_accuracy: 0.2254\n",
            "Epoch 19/60\n",
            "797/797 [==============================] - 25s 31ms/step - loss: 8.6454 - accuracy: 0.3551 - val_loss: 3.5898 - val_accuracy: 0.2286\n",
            "Epoch 20/60\n",
            "797/797 [==============================] - 25s 31ms/step - loss: 8.8635 - accuracy: 0.3447 - val_loss: 3.5881 - val_accuracy: 0.2283\n",
            "Epoch 21/60\n",
            "797/797 [==============================] - 25s 31ms/step - loss: 8.7979 - accuracy: 0.3430 - val_loss: 3.5893 - val_accuracy: 0.2239\n",
            "Epoch 22/60\n",
            "797/797 [==============================] - 25s 31ms/step - loss: 8.7720 - accuracy: 0.3474 - val_loss: 3.5856 - val_accuracy: 0.2309\n",
            "Epoch 23/60\n",
            "797/797 [==============================] - 25s 31ms/step - loss: 8.6641 - accuracy: 0.3584 - val_loss: 3.5849 - val_accuracy: 0.2303\n",
            "Epoch 24/60\n",
            "797/797 [==============================] - 25s 31ms/step - loss: 8.8396 - accuracy: 0.3460 - val_loss: 3.5862 - val_accuracy: 0.2289\n",
            "Epoch 25/60\n",
            "797/797 [==============================] - 25s 31ms/step - loss: 8.6538 - accuracy: 0.3543 - val_loss: 3.5865 - val_accuracy: 0.2280\n",
            "Epoch 26/60\n",
            "797/797 [==============================] - 25s 31ms/step - loss: 8.5634 - accuracy: 0.3633 - val_loss: 3.5869 - val_accuracy: 0.2303\n",
            "Epoch 27/60\n",
            "797/797 [==============================] - 27s 34ms/step - loss: 8.6700 - accuracy: 0.3573 - val_loss: 3.5926 - val_accuracy: 0.2289\n",
            "Epoch 28/60\n",
            "797/797 [==============================] - 25s 31ms/step - loss: 8.6726 - accuracy: 0.3582 - val_loss: 3.5916 - val_accuracy: 0.2292\n",
            "Epoch 29/60\n",
            "797/797 [==============================] - 25s 31ms/step - loss: 8.6903 - accuracy: 0.3570 - val_loss: 3.5979 - val_accuracy: 0.2327\n",
            "Epoch 30/60\n",
            "797/797 [==============================] - 25s 31ms/step - loss: 8.6319 - accuracy: 0.3626 - val_loss: 3.5935 - val_accuracy: 0.2344\n",
            "Epoch 31/60\n",
            "797/797 [==============================] - 25s 31ms/step - loss: 8.6855 - accuracy: 0.3593 - val_loss: 3.5973 - val_accuracy: 0.2327\n",
            "Epoch 32/60\n",
            "797/797 [==============================] - 25s 31ms/step - loss: 8.7266 - accuracy: 0.3578 - val_loss: 3.5976 - val_accuracy: 0.2286\n",
            "Epoch 33/60\n",
            "797/797 [==============================] - 25s 31ms/step - loss: 8.6369 - accuracy: 0.3716 - val_loss: 3.5993 - val_accuracy: 0.2280\n",
            "Epoch 34/60\n",
            "797/797 [==============================] - 25s 31ms/step - loss: 8.6959 - accuracy: 0.3614 - val_loss: 3.6036 - val_accuracy: 0.2277\n",
            "Epoch 35/60\n",
            "797/797 [==============================] - 27s 34ms/step - loss: 8.9283 - accuracy: 0.3505 - val_loss: 3.6003 - val_accuracy: 0.2292\n",
            "Epoch 36/60\n",
            "797/797 [==============================] - 27s 34ms/step - loss: 8.7610 - accuracy: 0.3562 - val_loss: 3.6079 - val_accuracy: 0.2315\n",
            "Epoch 37/60\n",
            "797/797 [==============================] - 25s 31ms/step - loss: 8.6659 - accuracy: 0.3689 - val_loss: 3.6005 - val_accuracy: 0.2324\n",
            "Epoch 38/60\n",
            "797/797 [==============================] - 25s 31ms/step - loss: 8.6894 - accuracy: 0.3642 - val_loss: 3.6088 - val_accuracy: 0.2329\n",
            "Epoch 39/60\n",
            "797/797 [==============================] - 27s 34ms/step - loss: 8.7633 - accuracy: 0.3609 - val_loss: 3.6099 - val_accuracy: 0.2309\n",
            "Epoch 40/60\n",
            "797/797 [==============================] - 25s 31ms/step - loss: 8.5860 - accuracy: 0.3706 - val_loss: 3.6112 - val_accuracy: 0.2286\n",
            "Epoch 41/60\n",
            "797/797 [==============================] - 25s 31ms/step - loss: 8.4708 - accuracy: 0.3834 - val_loss: 3.6123 - val_accuracy: 0.2327\n",
            "Epoch 42/60\n",
            "797/797 [==============================] - 25s 31ms/step - loss: 8.7361 - accuracy: 0.3678 - val_loss: 3.6171 - val_accuracy: 0.2283\n",
            "Epoch 43/60\n",
            "797/797 [==============================] - 27s 34ms/step - loss: 8.5070 - accuracy: 0.3790 - val_loss: 3.6066 - val_accuracy: 0.2309\n",
            "Epoch 44/60\n",
            "797/797 [==============================] - 25s 31ms/step - loss: 8.8317 - accuracy: 0.3651 - val_loss: 3.6083 - val_accuracy: 0.2329\n",
            "Epoch 45/60\n",
            "797/797 [==============================] - 25s 31ms/step - loss: 8.7324 - accuracy: 0.3733 - val_loss: 3.6153 - val_accuracy: 0.2300\n",
            "Epoch 46/60\n",
            "797/797 [==============================] - 25s 31ms/step - loss: 8.7081 - accuracy: 0.3695 - val_loss: 3.6186 - val_accuracy: 0.2324\n",
            "Epoch 47/60\n",
            "797/797 [==============================] - 27s 34ms/step - loss: 8.6492 - accuracy: 0.3760 - val_loss: 3.6206 - val_accuracy: 0.2312\n",
            "Epoch 48/60\n",
            "797/797 [==============================] - 25s 31ms/step - loss: 8.6407 - accuracy: 0.3799 - val_loss: 3.6209 - val_accuracy: 0.2292\n",
            "Epoch 49/60\n",
            "797/797 [==============================] - 25s 31ms/step - loss: 8.4894 - accuracy: 0.3852 - val_loss: 3.6237 - val_accuracy: 0.2251\n",
            "Epoch 50/60\n",
            "797/797 [==============================] - 25s 31ms/step - loss: 8.4424 - accuracy: 0.3843 - val_loss: 3.6301 - val_accuracy: 0.2268\n",
            "Epoch 51/60\n",
            "797/797 [==============================] - 25s 31ms/step - loss: 8.4612 - accuracy: 0.3925 - val_loss: 3.6280 - val_accuracy: 0.2259\n",
            "Epoch 52/60\n",
            "797/797 [==============================] - 25s 31ms/step - loss: 8.8847 - accuracy: 0.3662 - val_loss: 3.6283 - val_accuracy: 0.2280\n",
            "Epoch 53/60\n",
            "797/797 [==============================] - 25s 31ms/step - loss: 8.5594 - accuracy: 0.3874 - val_loss: 3.6329 - val_accuracy: 0.2286\n",
            "Epoch 54/60\n",
            "797/797 [==============================] - 25s 31ms/step - loss: 8.6169 - accuracy: 0.3851 - val_loss: 3.6315 - val_accuracy: 0.2327\n",
            "Epoch 55/60\n",
            "797/797 [==============================] - 25s 31ms/step - loss: 8.6145 - accuracy: 0.3829 - val_loss: 3.6290 - val_accuracy: 0.2321\n",
            "Epoch 56/60\n",
            "797/797 [==============================] - 25s 31ms/step - loss: 8.5254 - accuracy: 0.3890 - val_loss: 3.6354 - val_accuracy: 0.2283\n",
            "Epoch 57/60\n",
            "797/797 [==============================] - 25s 31ms/step - loss: 8.7331 - accuracy: 0.3801 - val_loss: 3.6374 - val_accuracy: 0.2283\n",
            "Epoch 58/60\n",
            "797/797 [==============================] - 25s 31ms/step - loss: 8.4777 - accuracy: 0.3918 - val_loss: 3.6437 - val_accuracy: 0.2297\n",
            "Epoch 59/60\n",
            "797/797 [==============================] - 27s 34ms/step - loss: 8.6743 - accuracy: 0.3879 - val_loss: 3.6435 - val_accuracy: 0.2300\n",
            "Epoch 60/60\n",
            "797/797 [==============================] - 25s 31ms/step - loss: 8.4747 - accuracy: 0.3970 - val_loss: 3.6449 - val_accuracy: 0.2300\n"
          ]
        }
      ]
    },
    {
      "cell_type": "code",
      "source": [
        "# Plot the training and validation loss\n",
        "\n",
        "plt.plot(history.history['loss'])\n",
        "plt.plot(history.history['val_loss'])\n",
        "plt.title('Loss vs. epochs')\n",
        "plt.ylabel('Loss')\n",
        "plt.xlabel('Epoch')\n",
        "plt.legend(['Training', 'Validation'], loc='upper right')\n",
        "plt.savefig(\"fig1.png\" , dpi = 200)\n",
        "plt.show()\n",
        "#path = \"/content/drive/MyDrive/fig/\"\n",
        "\n",
        "#path + 'Klassifikator1.svg', dpi=150"
      ],
      "metadata": {
        "id": "cSp78K6xDpME",
        "colab": {
          "base_uri": "https://localhost:8080/",
          "height": 295
        },
        "outputId": "b880075f-ba35-4b08-f602-f4fb74e2875a"
      },
      "execution_count": null,
      "outputs": [
        {
          "output_type": "display_data",
          "data": {
            "image/png": "[encoded data removed]",
            "text/plain": [
              "<Figure size 432x288 with 1 Axes>"
            ]
          },
          "metadata": {
            "needs_background": "light"
          }
        }
      ]
    },
    {
      "cell_type": "code",
      "source": [
        "\n",
        "plt.plot(history.history['accuracy'])\n",
        "plt.plot(history.history['val_accuracy'])\n",
        "plt.title('Accuracy vs. epochs')\n",
        "plt.ylabel('Accuracy')\n",
        "plt.xlabel('Epoch')\n",
        "plt.legend(['Training', 'Validation'], loc='upper right')\n",
        "plt.savefig(\"fig2.png\" , dpi = 200)\n",
        "plt.show()\n",
        "#path = \"/content/drive/MyDrive/fig/\"\n",
        "\n",
        "#path + 'Klassifikator1.svg', dpi=150"
      ],
      "metadata": {
        "id": "GRyBh4CqDpJc",
        "colab": {
          "base_uri": "https://localhost:8080/",
          "height": 295
        },
        "outputId": "b17eb2aa-5560-46b3-b708-33e4fdaabc89"
      },
      "execution_count": null,
      "outputs": [
        {
          "output_type": "display_data",
          "data": {
            "image/png": "[encoded data removed]",
            "text/plain": [
              "<Figure size 432x288 with 1 Axes>"
            ]
          },
          "metadata": {
            "needs_background": "light"
          }
        }
      ]
    },
    {
      "cell_type": "code",
      "source": [
        ""
      ],
      "metadata": {
        "id": "kQ8rKFamDpGc"
      },
      "execution_count": null,
      "outputs": []
    },
    {
      "cell_type": "code",
      "source": [
        ""
      ],
      "metadata": {
        "id": "-og9RI4uDpDk"
      },
      "execution_count": null,
      "outputs": []
    },
    {
      "cell_type": "code",
      "source": [
        ""
      ],
      "metadata": {
        "id": "s0_C3WhhDpAr"
      },
      "execution_count": null,
      "outputs": []
    }
  ]
}