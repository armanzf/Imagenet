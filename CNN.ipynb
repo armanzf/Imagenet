{
  "cells": [
    {
      "cell_type": "code",
      "source": [
        "pip install wget"
      ],
      "metadata": {
        "id": "Pw2Mkbtyno8U"
      },
      "execution_count": null,
      "outputs": []
    },
    {
      "cell_type": "code",
      "execution_count": null,
      "metadata": {
        "id": "uexbThWdOdgj"
      },
      "outputs": [],
      "source": [
        "import numpy as np \n",
        "import pandas as pd \n",
        "import os, sys, wget\n",
        "from zipfile import ZipFile\n",
        "import glob\n",
        "import cv2\n",
        "from google.colab.patches import cv2_imshow\n",
        "from tensorflow.keras import utils as np_utils\n",
        "from sklearn.model_selection import train_test_split"
      ]
    },
    {
      "cell_type": "code",
      "source": [
        "url = 'http://cs231n.stanford.edu/tiny-imagenet-200.zip'\n",
        "tiny_imgdataset = wget.download('http://cs231n.stanford.edu/tiny-imagenet-200.zip', out = os.getcwd())\n",
        "for file in os.listdir(os.getcwd()):\n",
        "    if file.endswith(\".zip\"):\n",
        "        zip = ZipFile(file)\n",
        "        zip.extractall()\n",
        "    else:\n",
        "        print(\"not found\")"
      ],
      "metadata": {
        "colab": {
          "base_uri": "https://localhost:8080/"
        },
        "id": "wv2rjZwHqVuF",
        "outputId": "9b3db666-98b8-4899-e019-69edc86e6d23"
      },
      "execution_count": null,
      "outputs": [
        {
          "output_type": "stream",
          "name": "stdout",
          "text": [
            "not found\n",
            "not found\n"
          ]
        }
      ]
    },
    {
      "cell_type": "code",
      "execution_count": null,
      "metadata": {
        "id": "sZAe3YmVOoHP"
      },
      "outputs": [],
      "source": [
        "train_path = os.listdir(\"/content/tiny-imagenet-200/train\")"
      ]
    },
    {
      "cell_type": "code",
      "execution_count": null,
      "metadata": {
        "id": "YwVIE_9FO01V"
      },
      "outputs": [],
      "source": [
        "Y_train = np.zeros((80000, 1))\n",
        "X_train = np.zeros((80000, 64, 64)) \n",
        "k=0\n",
        "for i in train_path:\n",
        "  \n",
        "  #print(i)\n",
        "  path = glob.glob('/content/tiny-imagenet-200/train/' + (i) + '/images/')\n",
        "  #tr_path.append(glob.glob('/content/train/tiny-imagenet-200/train/' + (i) + '/images/'))\n",
        "  j = 0\n",
        "  while j<400:\n",
        "    Y_train[(k*400)+j] = k\n",
        "    X_train[(k*400)+j, :, :] = cv2.cvtColor(cv2.imread(path[0] + i + '_'+str(j)+'.JPEG'), cv2.COLOR_BGR2GRAY)\n",
        "\n",
        "    j+=1\n",
        "  k+=1\n",
        "  print(k)\n",
        "\n"
      ]
    },
    {
      "cell_type": "code",
      "source": [
        "np.shape(X_train)"
      ],
      "metadata": {
        "colab": {
          "base_uri": "https://localhost:8080/"
        },
        "id": "h9X13q9Z8TPd",
        "outputId": "df60a252-7db7-4969-a2d9-8690fd2b8f5b"
      },
      "execution_count": null,
      "outputs": [
        {
          "output_type": "execute_result",
          "data": {
            "text/plain": [
              "(80000, 64, 64)"
            ]
          },
          "metadata": {},
          "execution_count": 6
        }
      ]
    },
    {
      "cell_type": "code",
      "execution_count": null,
      "metadata": {
        "colab": {
          "base_uri": "https://localhost:8080/",
          "height": 98
        },
        "id": "tqSGPlKj0MKo",
        "outputId": "125cb5cf-60ea-4794-bc98-9d9c50f6fe52"
      },
      "outputs": [
        {
          "output_type": "display_data",
          "data": {
            "image/png": "[encoded data removed]",
            "text/plain": [
              "<PIL.Image.Image image mode=RGB size=64x64 at 0x7F9B8E3D0A90>"
            ]
          },
          "metadata": {}
        },
        {
          "output_type": "stream",
          "name": "stdout",
          "text": [
            "[10.]\n"
          ]
        }
      ],
      "source": [
        "cv2_imshow(X_train[1500, :, :, :])\n",
        "print(Y_train[1500, :])"
      ]
    },
    {
      "cell_type": "code",
      "source": [
        "np.shape(X_train[1500, :, :, :])"
      ],
      "metadata": {
        "colab": {
          "base_uri": "https://localhost:8080/"
        },
        "id": "4O-osnc2zmoG",
        "outputId": "be0a1dd8-a7b9-4f0e-e36e-db969195f584"
      },
      "execution_count": null,
      "outputs": [
        {
          "output_type": "execute_result",
          "data": {
            "text/plain": [
              "(64, 64, 3)"
            ]
          },
          "metadata": {},
          "execution_count": 26
        }
      ]
    },
    {
      "cell_type": "code",
      "execution_count": null,
      "metadata": {
        "colab": {
          "base_uri": "https://localhost:8080/"
        },
        "id": "fDTkKA5r16fk",
        "outputId": "0314eb6b-9484-4930-ef33-6b9461be6c3b"
      },
      "outputs": [
        {
          "output_type": "execute_result",
          "data": {
            "text/plain": [
              "30000"
            ]
          },
          "metadata": {},
          "execution_count": 11
        }
      ],
      "source": [
        "len(X_train)"
      ]
    },
    {
      "cell_type": "code",
      "source": [
        "np.min(X_train[1500, :, :, :])"
      ],
      "metadata": {
        "colab": {
          "base_uri": "https://localhost:8080/"
        },
        "id": "zTIPWf-p94Fn",
        "outputId": "525e5a3e-1429-4fcd-c226-f2e11d163a81"
      },
      "execution_count": null,
      "outputs": [
        {
          "output_type": "execute_result",
          "data": {
            "text/plain": [
              "0.0"
            ]
          },
          "metadata": {},
          "execution_count": 18
        }
      ]
    },
    {
      "cell_type": "code",
      "execution_count": null,
      "metadata": {
        "id": "midI7o3KDfj2"
      },
      "outputs": [],
      "source": [
        "### Normalization\n",
        "for i in range(len(X_train)):\n",
        "  x = X_train[i, :, :]\n",
        "  x = x/x.max()\n",
        "  X_train[i, :, :] = x\n",
        "\n"
      ]
    },
    {
      "cell_type": "code",
      "execution_count": null,
      "metadata": {
        "id": "DAeVQXtiTfik"
      },
      "outputs": [],
      "source": [
        "\n",
        "shuffle = list(range(np.size(Y_train, 0)))\n",
        "np.random.shuffle(shuffle)\n",
        "x_train = X_train[shuffle, :, :]\n",
        "y_train = Y_train[shuffle, :]"
      ]
    },
    {
      "cell_type": "code",
      "execution_count": null,
      "metadata": {
        "id": "pzzXRpYGuBFX"
      },
      "outputs": [],
      "source": [
        "y_train = np_utils.to_categorical(y_train, 200)"
      ]
    },
    {
      "cell_type": "code",
      "execution_count": null,
      "metadata": {
        "id": "Ua0Di6MBFXDB"
      },
      "outputs": [],
      "source": [
        "xx_train , xx_test, yy_train, yy_test = train_test_split(x_train, y_train, test_size=0.1, random_state=32)"
      ]
    },
    {
      "cell_type": "code",
      "source": [
        "del X_train, Y_train"
      ],
      "metadata": {
        "id": "W_-lp2lXrHsS"
      },
      "execution_count": null,
      "outputs": []
    },
    {
      "cell_type": "code",
      "execution_count": null,
      "metadata": {
        "colab": {
          "base_uri": "https://localhost:8080/",
          "height": 237
        },
        "id": "wSWSDVsbzYAB",
        "outputId": "601844a4-6b50-45ff-a949-fc8361df0805"
      },
      "outputs": [
        {
          "output_type": "display_data",
          "data": {
            "image/png": "[encoded data removed]",
            "text/plain": [
              "<PIL.Image.Image image mode=L size=64x64 at 0x7F066F03D410>"
            ]
          },
          "metadata": {}
        },
        {
          "output_type": "stream",
          "name": "stdout",
          "text": [
            "[0. 0. 0. 0. 0. 0. 0. 0. 0. 0. 0. 0. 0. 0. 0. 0. 0. 0. 0. 0. 0. 0. 0. 0.\n",
            " 0. 0. 0. 0. 0. 0. 0. 0. 0. 0. 0. 0. 0. 0. 0. 0. 0. 0. 0. 0. 0. 0. 0. 0.\n",
            " 0. 0. 0. 0. 0. 0. 0. 0. 0. 0. 0. 0. 0. 0. 0. 0. 0. 0. 0. 0. 0. 0. 0. 0.\n",
            " 0. 0. 0. 0. 0. 0. 0. 0. 0. 0. 0. 0. 0. 0. 0. 0. 0. 0. 0. 0. 0. 0. 0. 0.\n",
            " 0. 0. 0. 0. 0. 0. 0. 0. 0. 0. 0. 0. 0. 0. 0. 0. 0. 0. 0. 0. 0. 1. 0. 0.\n",
            " 0. 0. 0. 0. 0. 0. 0. 0. 0. 0. 0. 0. 0. 0. 0. 0. 0. 0. 0. 0. 0. 0. 0. 0.\n",
            " 0. 0. 0. 0. 0. 0. 0. 0. 0. 0. 0. 0. 0. 0. 0. 0. 0. 0. 0. 0. 0. 0. 0. 0.\n",
            " 0. 0. 0. 0. 0. 0. 0. 0. 0. 0. 0. 0. 0. 0. 0. 0. 0. 0. 0. 0. 0. 0. 0. 0.\n",
            " 0. 0. 0. 0. 0. 0. 0. 0.]\n"
          ]
        }
      ],
      "source": [
        "cv2_imshow(x_train[8000, :, :]*255)\n",
        "print(y_train[8000, :])"
      ]
    },
    {
      "cell_type": "code",
      "source": [
        "x_train = np.expand_dims(x_train, axis=-1 )"
      ],
      "metadata": {
        "id": "2oG5SgCa7bJU"
      },
      "execution_count": null,
      "outputs": []
    },
    {
      "cell_type": "code",
      "execution_count": null,
      "metadata": {
        "colab": {
          "base_uri": "https://localhost:8080/"
        },
        "id": "BUgogXb8TfgI",
        "outputId": "0621f4eb-7d47-41c5-d107-ea3ee3caaf6a"
      },
      "outputs": [
        {
          "output_type": "stream",
          "name": "stdout",
          "text": [
            "Model: \"sequential\"\n",
            "_________________________________________________________________\n",
            " Layer (type)                Output Shape              Param #   \n",
            "=================================================================\n",
            " conv2d (Conv2D)             (None, 64, 64, 128)       1280      \n",
            "                                                                 \n",
            " batch_normalization (BatchN  (None, 64, 64, 128)      512       \n",
            " ormalization)                                                   \n",
            "                                                                 \n",
            " conv2d_1 (Conv2D)           (None, 64, 64, 128)       147584    \n",
            "                                                                 \n",
            " batch_normalization_1 (Batc  (None, 64, 64, 128)      512       \n",
            " hNormalization)                                                 \n",
            "                                                                 \n",
            " activation (Activation)     (None, 64, 64, 128)       0         \n",
            "                                                                 \n",
            " max_pooling2d (MaxPooling2D  (None, 32, 32, 128)      0         \n",
            " )                                                               \n",
            "                                                                 \n",
            " conv2d_2 (Conv2D)           (None, 32, 32, 128)       147584    \n",
            "                                                                 \n",
            " batch_normalization_2 (Batc  (None, 32, 32, 128)      512       \n",
            " hNormalization)                                                 \n",
            "                                                                 \n",
            " conv2d_3 (Conv2D)           (None, 32, 32, 128)       147584    \n",
            "                                                                 \n",
            " batch_normalization_3 (Batc  (None, 32, 32, 128)      512       \n",
            " hNormalization)                                                 \n",
            "                                                                 \n",
            " activation_1 (Activation)   (None, 32, 32, 128)       0         \n",
            "                                                                 \n",
            " max_pooling2d_1 (MaxPooling  (None, 16, 16, 128)      0         \n",
            " 2D)                                                             \n",
            "                                                                 \n",
            " conv2d_4 (Conv2D)           (None, 16, 16, 128)       147584    \n",
            "                                                                 \n",
            " batch_normalization_4 (Batc  (None, 16, 16, 128)      512       \n",
            " hNormalization)                                                 \n",
            "                                                                 \n",
            " conv2d_5 (Conv2D)           (None, 16, 16, 128)       147584    \n",
            "                                                                 \n",
            " batch_normalization_5 (Batc  (None, 16, 16, 128)      512       \n",
            " hNormalization)                                                 \n",
            "                                                                 \n",
            " activation_2 (Activation)   (None, 16, 16, 128)       0         \n",
            "                                                                 \n",
            " max_pooling2d_2 (MaxPooling  (None, 8, 8, 128)        0         \n",
            " 2D)                                                             \n",
            "                                                                 \n",
            " conv2d_6 (Conv2D)           (None, 8, 8, 256)         295168    \n",
            "                                                                 \n",
            " batch_normalization_6 (Batc  (None, 8, 8, 256)        1024      \n",
            " hNormalization)                                                 \n",
            "                                                                 \n",
            " conv2d_7 (Conv2D)           (None, 8, 8, 512)         1180160   \n",
            "                                                                 \n",
            " batch_normalization_7 (Batc  (None, 8, 8, 512)        2048      \n",
            " hNormalization)                                                 \n",
            "                                                                 \n",
            " activation_3 (Activation)   (None, 8, 8, 512)         0         \n",
            "                                                                 \n",
            " max_pooling2d_3 (MaxPooling  (None, 4, 4, 512)        0         \n",
            " 2D)                                                             \n",
            "                                                                 \n",
            " flatten (Flatten)           (None, 8192)              0         \n",
            "                                                                 \n",
            " dense (Dense)               (None, 2048)              16779264  \n",
            "                                                                 \n",
            " batch_normalization_8 (Batc  (None, 2048)             8192      \n",
            " hNormalization)                                                 \n",
            "                                                                 \n",
            " activation_4 (Activation)   (None, 2048)              0         \n",
            "                                                                 \n",
            " dropout (Dropout)           (None, 2048)              0         \n",
            "                                                                 \n",
            " dense_1 (Dense)             (None, 1024)              2098176   \n",
            "                                                                 \n",
            " batch_normalization_9 (Batc  (None, 1024)             4096      \n",
            " hNormalization)                                                 \n",
            "                                                                 \n",
            " activation_5 (Activation)   (None, 1024)              0         \n",
            "                                                                 \n",
            " dropout_1 (Dropout)         (None, 1024)              0         \n",
            "                                                                 \n",
            " dense_2 (Dense)             (None, 200)               205000    \n",
            "                                                                 \n",
            " activation_6 (Activation)   (None, 200)               0         \n",
            "                                                                 \n",
            "=================================================================\n",
            "Total params: 21,315,400\n",
            "Trainable params: 21,306,184\n",
            "Non-trainable params: 9,216\n",
            "_________________________________________________________________\n"
          ]
        }
      ],
      "source": [
        "from __future__ import print_function\n",
        "import keras\n",
        "from keras.models import Sequential\n",
        "from keras.layers import Dense, Dropout, Flatten, ELU, core\n",
        "from keras.layers import Conv2D, MaxPooling2D, AveragePooling2D\n",
        "from keras.layers import BatchNormalization, Activation, Reshape\n",
        "from keras import backend as K\n",
        "\n",
        "from keras import layers\n",
        "from keras import regularizers\n",
        "\n",
        "from keras.callbacks import Callback\n",
        "import numpy as np\n",
        "import tensorflow as tf  \n",
        "import matplotlib.pyplot as plt\n",
        "import glob\n",
        "\n",
        "\n",
        "num_classes = 200\n",
        "\n",
        "#CNN\n",
        "model = Sequential()\n",
        "\n",
        "#layer1\n",
        "model.add(Conv2D(128, kernel_size=(3, 3), strides=(1, 1), input_shape=(64, 64, 1), padding='same'))\n",
        "model.add(BatchNormalization())\n",
        "model.add(Conv2D(128, kernel_size=(3, 3),strides=(1, 1), padding='same'))\n",
        "model.add(BatchNormalization())\n",
        "model.add(Activation('relu'))\n",
        "\n",
        "model.add(MaxPooling2D(pool_size=(3, 3), strides=(2, 2), padding='same'))\n",
        "\n",
        "#layer2\n",
        "model.add(Conv2D(128, kernel_size=(3, 3), strides=(1, 1), padding='same'))\n",
        "model.add(BatchNormalization())\n",
        "model.add(Conv2D(128, kernel_size=(3, 3), strides=(1, 1), padding='same'))\n",
        "model.add(BatchNormalization())\n",
        "model.add(Activation('relu'))\n",
        "\n",
        "model.add(MaxPooling2D(pool_size=(3, 3), strides=(2, 2), padding='same'))\n",
        "\n",
        "#layer3\n",
        "model.add(Conv2D(128, kernel_size=(3, 3), strides=(1, 1), padding='same'))\n",
        "model.add(BatchNormalization())\n",
        "model.add(Conv2D(128, kernel_size=(3, 3), strides=(1, 1), padding='same'))\n",
        "model.add(BatchNormalization())\n",
        "model.add(Activation('relu'))\n",
        "\n",
        "model.add(MaxPooling2D(pool_size=(3, 3), strides=(2, 2), padding='same'))\n",
        "\n",
        "#layer4\n",
        "model.add(Conv2D(256, kernel_size=(3, 3), strides=(1, 1), padding='same'))\n",
        "model.add(BatchNormalization())\n",
        "model.add(Conv2D(512, kernel_size=(3, 3), strides=(1, 1), padding='same'))\n",
        "model.add(BatchNormalization())\n",
        "model.add(Activation('relu'))\n",
        "model.add(MaxPooling2D(pool_size=(3, 3), strides=(2, 2), padding='same'))\n",
        "\n",
        "\n",
        "#output layer\n",
        "model.add(Flatten())\n",
        "\n",
        "model.add(Dense(2048))\n",
        "model.add(BatchNormalization())\n",
        "model.add(Activation('relu'))\n",
        "model.add(Dropout(0.5))\n",
        "\n",
        "model.add(Dense(1024))\n",
        "model.add(BatchNormalization())\n",
        "model.add(Activation('relu'))\n",
        "model.add(Dropout(0.5))\n",
        "\n",
        "#model.add(Dense(200))\n",
        "#model.add(Activation('relu'))\n",
        "#model.add(Dropout(0.5))\n",
        "\n",
        "model.add(Dense(num_classes))\n",
        "model.add(Activation('softmax'))\n",
        "\n",
        "model.summary()\n"
      ]
    },
    {
      "cell_type": "code",
      "execution_count": null,
      "metadata": {
        "colab": {
          "base_uri": "https://localhost:8080/"
        },
        "id": "YuGwcUDpTfdj",
        "outputId": "03507729-a6d3-4835-be15-2bc897a83b69"
      },
      "outputs": [
        {
          "output_type": "stream",
          "name": "stdout",
          "text": [
            "Epoch 1/10\n",
            "844/844 [==============================] - 186s 210ms/step - loss: 5.7935 - accuracy: 0.0098 - val_loss: 5.0180 - val_accuracy: 0.0393\n",
            "Epoch 2/10\n",
            "844/844 [==============================] - 174s 206ms/step - loss: 5.3974 - accuracy: 0.0227 - val_loss: 4.7902 - val_accuracy: 0.0632\n",
            "Epoch 3/10\n",
            "844/844 [==============================] - 173s 205ms/step - loss: 5.1540 - accuracy: 0.0347 - val_loss: 4.6009 - val_accuracy: 0.0833\n",
            "Epoch 4/10\n",
            "844/844 [==============================] - 173s 205ms/step - loss: 4.9574 - accuracy: 0.0487 - val_loss: 4.4645 - val_accuracy: 0.0997\n",
            "Epoch 5/10\n",
            "844/844 [==============================] - 173s 206ms/step - loss: 4.8012 - accuracy: 0.0589 - val_loss: 4.3558 - val_accuracy: 0.1136\n",
            "Epoch 6/10\n",
            "844/844 [==============================] - 174s 206ms/step - loss: 4.6777 - accuracy: 0.0719 - val_loss: 4.2635 - val_accuracy: 0.1229\n",
            "Epoch 7/10\n",
            "844/844 [==============================] - 174s 206ms/step - loss: 4.5608 - accuracy: 0.0834 - val_loss: 4.2156 - val_accuracy: 0.1299\n",
            "Epoch 8/10\n",
            "844/844 [==============================] - 175s 207ms/step - loss: 4.4695 - accuracy: 0.0931 - val_loss: 4.1395 - val_accuracy: 0.1353\n",
            "Epoch 9/10\n",
            "844/844 [==============================] - 174s 206ms/step - loss: 4.3742 - accuracy: 0.1012 - val_loss: 4.0808 - val_accuracy: 0.1478\n",
            "Epoch 10/10\n",
            "844/844 [==============================] - 174s 206ms/step - loss: 4.2888 - accuracy: 0.1140 - val_loss: 4.0161 - val_accuracy: 0.1563\n"
          ]
        }
      ],
      "source": [
        "epochs = 10\n",
        "batch_size = 64\n",
        "validation_split = 0.25\n",
        "\n",
        "\n",
        "model.compile(loss=keras.losses.categorical_crossentropy,      #test 0.00005\n",
        "              optimizer=tf.keras.optimizers.Adam(learning_rate=0.00001),\n",
        "              metrics=['accuracy'])\n",
        "\n",
        "\n",
        "history = model.fit(xx_train, yy_train,\n",
        "          batch_size=batch_size,\n",
        "          epochs=epochs,\n",
        "          shuffle=True,\n",
        "          verbose=1,\n",
        "          validation_split=validation_split,\n",
        "          callbacks=[])\n"
      ]
    },
    {
      "cell_type": "code",
      "execution_count": null,
      "metadata": {
        "id": "S303mmJ8TfbF"
      },
      "outputs": [],
      "source": [
        "model.predict(xx_test)\n",
        "#(yy_test)"
      ]
    },
    {
      "cell_type": "code",
      "source": [
        "# Plot the training and validation loss\n",
        "\n",
        "plt.plot(history.history['loss'])\n",
        "plt.plot(history.history['val_loss'])\n",
        "plt.title('Loss vs. epochs')\n",
        "plt.ylabel('Loss')\n",
        "plt.xlabel('Epoch')\n",
        "plt.legend(['Training', 'Validation'], loc='upper right')\n",
        "plt.savefig(\"fig1.png\" , dpi = 200)\n",
        "plt.show()\n",
        "#path = \"/content/drive/MyDrive/fig/\"\n",
        "\n",
        "#path + 'Klassifikator1.svg', dpi=150"
      ],
      "metadata": {
        "id": "cSp78K6xDpME",
        "colab": {
          "base_uri": "https://localhost:8080/",
          "height": 295
        },
        "outputId": "1198df93-487e-45a2-e2da-fc7f9e7f6e10"
      },
      "execution_count": null,
      "outputs": [
        {
          "output_type": "display_data",
          "data": {
            "image/png": "[encoded data removed]",
            "text/plain": [
              "<Figure size 432x288 with 1 Axes>"
            ]
          },
          "metadata": {
            "needs_background": "light"
          }
        }
      ]
    },
    {
      "cell_type": "code",
      "source": [
        ""
      ],
      "metadata": {
        "id": "P6LchOpMzJJ2"
      },
      "execution_count": null,
      "outputs": []
    },
    {
      "cell_type": "code",
      "source": [
        "\n",
        "plt.plot(history.history['accuracy'])\n",
        "plt.plot(history.history['val_accuracy'])\n",
        "plt.title('Accuracy vs. epochs')\n",
        "plt.ylabel('Accuracy')\n",
        "plt.xlabel('Epoch')\n",
        "plt.legend(['Training', 'Validation'], loc='upper right')\n",
        "plt.savefig(\"fig2.png\" , dpi = 200)\n",
        "plt.show()\n",
        "#path = \"/content/drive/MyDrive/fig/\"\n",
        "\n",
        "#path + 'Klassifikator1.svg', dpi=150"
      ],
      "metadata": {
        "id": "GRyBh4CqDpJc",
        "colab": {
          "base_uri": "https://localhost:8080/",
          "height": 295
        },
        "outputId": "8bc51f55-3aae-44b8-aafe-f90fa91bd1e6"
      },
      "execution_count": null,
      "outputs": [
        {
          "output_type": "display_data",
          "data": {
            "image/png": "[encoded data removed]",
            "text/plain": [
              "<Figure size 432x288 with 1 Axes>"
            ]
          },
          "metadata": {
            "needs_background": "light"
          }
        }
      ]
    },
    {
      "cell_type": "code",
      "execution_count": null,
      "metadata": {
        "id": "Wkn_jhkLTfVt"
      },
      "outputs": [],
      "source": [
        ""
      ]
    },
    {
      "cell_type": "code",
      "execution_count": null,
      "metadata": {
        "id": "d7x3dzyHTfS-"
      },
      "outputs": [],
      "source": [
        ""
      ]
    }
  ],
  "metadata": {
    "colab": {
      "collapsed_sections": [],
      "name": "imagenet.ipynb",
      "provenance": []
    },
    "kernelspec": {
      "display_name": "Python 3",
      "name": "python3"
    },
    "language_info": {
      "name": "python"
    },
    "accelerator": "GPU"
  },
  "nbformat": 4,
  "nbformat_minor": 0
}